{
 "cells": [
  {
   "cell_type": "code",
   "execution_count": null,
   "metadata": {},
   "outputs": [],
   "source": [
    "def fibonacci_seq(n):\n",
    "    fib_seq = [0, 1]\n",
    "    while fib_seq[-1] < n:\n",
    "        fib_seq.append(fib_seq[-1] + fib_seq[-2])\n",
    "    return fib_seq\n"
   ]
  },
  {
   "cell_type": "code",
   "execution_count": null,
   "metadata": {},
   "outputs": [],
   "source": [
    "\n",
    "def check_fibonacci(num):\n",
    "    fib_seq = fibonacci_seq(num)\n",
    "    if num in fib_seq:\n",
    "        return True\n",
    "    else:\n",
    "        return False"
   ]
  },
  {
   "cell_type": "code",
   "execution_count": null,
   "metadata": {},
   "outputs": [],
   "source": [
    "\n",
    "num = int(input('Digite um número para verificar se está na sequência de Fibonacci: '))\n",
    "if check_fibonacci(num):\n",
    "    print(f'O número {num} está na sequência de Fibonacci.')\n",
    "else:\n",
    "    print(f'O número {num} não está na sequência de Fibonacci.')"
   ]
  }
 ],
 "metadata": {
  "kernelspec": {
   "display_name": "Python 3",
   "language": "python",
   "name": "python3"
  },
  "language_info": {
   "codemirror_mode": {
    "name": "ipython",
    "version": 3
   },
   "file_extension": ".py",
   "mimetype": "text/x-python",
   "name": "python",
   "nbconvert_exporter": "python",
   "pygments_lexer": "ipython3",
   "version": "3.10.12"
  }
 },
 "nbformat": 4,
 "nbformat_minor": 2
}
